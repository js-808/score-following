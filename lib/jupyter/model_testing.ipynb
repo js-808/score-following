{
 "cells": [
  {
   "cell_type": "code",
   "execution_count": 1,
   "metadata": {},
   "outputs": [],
   "source": [
    "import numpy as np \n",
    "import librosa \n",
    "from matplotlib import pyplot as plt \n",
    "import sys \n",
    "from scipy.stats import norm\n",
    "sys.path.append('../audio_preprocessor/')\n",
    "from preprocessor import AudioPreprocessor\n",
    "sys.path.append('../follower')\n",
    "from follower import ScoreFollower"
   ]
  },
  {
   "attachments": {},
   "cell_type": "markdown",
   "metadata": {},
   "source": [
    "## Step 1: Preprocess the audio "
   ]
  },
  {
   "cell_type": "code",
   "execution_count": 2,
   "metadata": {},
   "outputs": [],
   "source": [
    "# Parse Fugue 8\n",
    "midi_file = '../../data/midi/wtk1-fugue8.mid'\n",
    "wav_file = '../../data/audio/wtk1-fugue8.wav'\n",
    "ap = AudioPreprocessor(midi_file, wav_file)\n",
    "chord_events = ap.chord_events\n",
    "audio_events = ap.continuous_q()"
   ]
  },
  {
   "attachments": {},
   "cell_type": "markdown",
   "metadata": {},
   "source": [
    "## Step 2: Run the score follower\n",
    "\n",
    "(THIS STEP IS BROKEN - TOOK FOREVER TO RUN AND JUST OUTPUT THE SAME STATE OVER AND OVER AGAIN)"
   ]
  },
  {
   "cell_type": "code",
   "execution_count": 3,
   "metadata": {},
   "outputs": [
    {
     "name": "stdout",
     "output_type": "stream",
     "text": [
      "Populating Bellman log-probabilities . . .\n",
      "Populating best sequence . . .\n",
      "Done.\n"
     ]
    }
   ],
   "source": [
    "# Now, pass this into our score follower \n",
    "follower = ScoreFollower(chord_events, audio_events, 'cqt')\n",
    "\n",
    "# Now, decode the most likely sequence of audio events corresponding\n",
    "# to the score events \n",
    "best_sequence = follower.find_best_sequence() "
   ]
  },
  {
   "cell_type": "code",
   "execution_count": 4,
   "metadata": {},
   "outputs": [
    {
     "data": {
      "text/plain": [
       "10119"
      ]
     },
     "execution_count": 4,
     "metadata": {},
     "output_type": "execute_result"
    }
   ],
   "source": [
    "len(best_sequence)"
   ]
  }
 ],
 "metadata": {
  "kernelspec": {
   "display_name": "music",
   "language": "python",
   "name": "python3"
  },
  "language_info": {
   "codemirror_mode": {
    "name": "ipython",
    "version": 3
   },
   "file_extension": ".py",
   "mimetype": "text/x-python",
   "name": "python",
   "nbconvert_exporter": "python",
   "pygments_lexer": "ipython3",
   "version": "3.9.16"
  },
  "orig_nbformat": 4
 },
 "nbformat": 4,
 "nbformat_minor": 2
}
